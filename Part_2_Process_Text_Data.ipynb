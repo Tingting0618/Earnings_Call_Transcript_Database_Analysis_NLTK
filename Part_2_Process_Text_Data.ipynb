{
 "cells": [
  {
   "cell_type": "code",
   "execution_count": 1,
   "metadata": {},
   "outputs": [],
   "source": [
    "from __future__ import print_function\n",
    "from ipywidgets import interact, interactive, fixed, interact_manual\n",
    "import ipywidgets as widgets\n",
    "import pandas as pd\n",
    "import nltk\n",
    "from nltk.corpus import stopwords\n",
    "from nltk.tokenize import sent_tokenize, word_tokenize\n",
    "from nltk.stem import PorterStemmer\n",
    "import matplotlib. pyplot as plt\n",
    "from nltk import FreqDist\n",
    "import plotly.express as px\n",
    "from collections import Counter\n",
    "from nltk.text import Text \n",
    "import nltk\n",
    "from nltk.sentiment.vader import SentimentIntensityAnalyzer\n",
    "from nltk.tokenize import sent_tokenize, word_tokenize\n",
    "#nltk.download('vader_lexicon')"
   ]
  },
  {
   "cell_type": "code",
   "execution_count": 2,
   "metadata": {},
   "outputs": [],
   "source": [
    "df = pd.read_pickle('data/raw_data.pkl')"
   ]
  },
  {
   "cell_type": "code",
   "execution_count": 3,
   "metadata": {},
   "outputs": [
    {
     "data": {
      "text/html": [
       "<div>\n",
       "<style scoped>\n",
       "    .dataframe tbody tr th:only-of-type {\n",
       "        vertical-align: middle;\n",
       "    }\n",
       "\n",
       "    .dataframe tbody tr th {\n",
       "        vertical-align: top;\n",
       "    }\n",
       "\n",
       "    .dataframe thead th {\n",
       "        text-align: right;\n",
       "    }\n",
       "</style>\n",
       "<table border=\"1\" class=\"dataframe\">\n",
       "  <thead>\n",
       "    <tr style=\"text-align: right;\">\n",
       "      <th></th>\n",
       "      <th>URL</th>\n",
       "      <th>file_contents</th>\n",
       "      <th>Company</th>\n",
       "      <th>Year</th>\n",
       "      <th>Quarter</th>\n",
       "    </tr>\n",
       "  </thead>\n",
       "  <tbody>\n",
       "    <tr>\n",
       "      <th>51</th>\n",
       "      <td>https://s2.q4cdn.com/278413729/files/doc_finan...</td>\n",
       "      <td>...</td>\n",
       "      <td>Hyatt</td>\n",
       "      <td>2019</td>\n",
       "      <td>3</td>\n",
       "    </tr>\n",
       "    <tr>\n",
       "      <th>52</th>\n",
       "      <td>https://s2.q4cdn.com/278413729/files/doc_finan...</td>\n",
       "      <td>...</td>\n",
       "      <td>Hyatt</td>\n",
       "      <td>2019</td>\n",
       "      <td>2</td>\n",
       "    </tr>\n",
       "    <tr>\n",
       "      <th>53</th>\n",
       "      <td>https://s2.q4cdn.com/278413729/files/doc_finan...</td>\n",
       "      <td>...</td>\n",
       "      <td>Hyatt</td>\n",
       "      <td>2019</td>\n",
       "      <td>1</td>\n",
       "    </tr>\n",
       "  </tbody>\n",
       "</table>\n",
       "</div>"
      ],
      "text/plain": [
       "                                                  URL  \\\n",
       "51  https://s2.q4cdn.com/278413729/files/doc_finan...   \n",
       "52  https://s2.q4cdn.com/278413729/files/doc_finan...   \n",
       "53  https://s2.q4cdn.com/278413729/files/doc_finan...   \n",
       "\n",
       "                                        file_contents Company  Year  Quarter  \n",
       "51                                                ...   Hyatt  2019        3  \n",
       "52                                                ...   Hyatt  2019        2  \n",
       "53                                                ...   Hyatt  2019        1  "
      ]
     },
     "execution_count": 3,
     "metadata": {},
     "output_type": "execute_result"
    }
   ],
   "source": [
    "df.tail(3)"
   ]
  },
  {
   "cell_type": "markdown",
   "metadata": {},
   "source": [
    "#### Define StopWords"
   ]
  },
  {
   "cell_type": "code",
   "execution_count": 4,
   "metadata": {},
   "outputs": [],
   "source": [
    "stop_words = set(stopwords.words('english'))"
   ]
  },
  {
   "cell_type": "code",
   "execution_count": 5,
   "metadata": {},
   "outputs": [],
   "source": [
    "extended_stop_words=['obviously',\"that's\",\n",
    " 'probably','bit','second','company',\"'ll\",'&',\"'re\",'––','--','years','got','–',\"'s\",'much',\"n't\",'many',\"'ve\",'get','may','today','room','rooms','around','kind','seen','continue','seeing','given',\"we're\",'still','look','like','sure','really','could',\"we've\",'levels','back','see','business','hotel','hotels','million','first','think','year','quarter','percent','group','.','i',':','and','we','‐‐','so','also','but','$',';','thi','-',',','‐','?','’','us']\n",
    "for i in extended_stop_words:\n",
    "    stop_words.add(i)"
   ]
  },
  {
   "cell_type": "code",
   "execution_count": null,
   "metadata": {},
   "outputs": [],
   "source": []
  },
  {
   "cell_type": "markdown",
   "metadata": {},
   "source": [
    "### 1. Frequency Distribution"
   ]
  },
  {
   "cell_type": "code",
   "execution_count": 6,
   "metadata": {},
   "outputs": [
    {
     "data": {
      "application/vnd.jupyter.widget-view+json": {
       "model_id": "7f23741aba084c6589088ea81ea568c8",
       "version_major": 2,
       "version_minor": 0
      },
      "text/plain": [
       "interactive(children=(Dropdown(description='Company', options=('Hyatt', 'Marriott'), value='Hyatt'), Dropdown(…"
      ]
     },
     "metadata": {},
     "output_type": "display_data"
    }
   ],
   "source": [
    "@interact(Year=list(set(df['Year'].sort_values(ascending=False))),Quarter=list(set(df['Quarter'])),\n",
    "          Company=list(set(df['Company'])),Top__Words=[10,25,30,50])\n",
    "def h(Company,Year,Quarter,Top__Words):\n",
    "    transcript = df[(df['Year'] == Year) & (df['Quarter'] == Quarter)& (df['Company'] == Company)]['file_contents'].to_list()[0]\n",
    "    word_tokens = word_tokenize(transcript)\n",
    "    ps = PorterStemmer()\n",
    "\n",
    "    stemed_transcript = []\n",
    "    for w in word_tokens:\n",
    "        #stemed_transcript.append(ps.stem(w).lower())\n",
    "        stemed_transcript.append(w.lower())\n",
    "\n",
    "    filtered_transcript = []\n",
    "    for w in stemed_transcript:\n",
    "        if w not in stop_words:\n",
    "            filtered_transcript.append(w)\n",
    "    \n",
    "    fdist = FreqDist(filtered_transcript)\n",
    "    fd = fdist.most_common(Top__Words)\n",
    "    \n",
    "    x_val = [x[0] for x in fd]\n",
    "    y_val = [x[1] for x in fd]\n",
    "\n",
    "    fig = px.bar(x=x_val, y=y_val, labels =x_val)\n",
    "    fig.update_layout(\n",
    "        title=\"Top \"+str(Top__Words)+\" Frequently Mentioned Words - \"+Company+\" \"+str(Year)+\" Q\"+str(Quarter)+\" \",\n",
    "        xaxis_title=\"Frequently mentioned words\",\n",
    "        yaxis_title=\"How many times a word has been mentioned\",\n",
    "        legend_title=\"Top Words\",\n",
    "        font=dict(\n",
    "    #         family=\"Courier New, monospace\",\n",
    "            size=12,\n",
    "            color=\"Black\"\n",
    "        )\n",
    "    )\n",
    "    fig.update_xaxes(tickangle=45, tickfont=dict(family=\"Courier New, monospace\", size=14))\n",
    "\n",
    "    fig.show()"
   ]
  },
  {
   "cell_type": "markdown",
   "metadata": {},
   "source": [
    "### 2. Certain Word/Word Groups Count"
   ]
  },
  {
   "cell_type": "code",
   "execution_count": 7,
   "metadata": {},
   "outputs": [
    {
     "data": {
      "application/vnd.jupyter.widget-view+json": {
       "model_id": "20d679e1528e4e67aee4988ba9336777",
       "version_major": 2,
       "version_minor": 0
      },
      "text/plain": [
       "interactive(children=(Dropdown(description='Year', options=(2016, 2017, 2018, 2019, 2020, 2021, 2010, 2011, 20…"
      ]
     },
     "metadata": {},
     "output_type": "display_data"
    }
   ],
   "source": [
    "@interact(Year=list(set(df['Year'].sort_values(ascending=False))),\n",
    "          Quarter=list(set(df['Quarter'])),\n",
    "          Company=list(set(df['Company'])),\n",
    "          Key_Words=\"Recovery\")\n",
    "def g(Year,Quarter,Company,Key_Words):\n",
    "    transcript = df[(df['Year'] == Year) & (df['Quarter'] == Quarter)& (df['Company'] == Company)]['file_contents'].to_list()[0]\n",
    "    word_tokens = word_tokenize(transcript)\n",
    "    textListNLTK = Text(word_tokens) \n",
    "    textListNLTK.concordance(Key_Words,lines=25)"
   ]
  },
  {
   "cell_type": "code",
   "execution_count": null,
   "metadata": {},
   "outputs": [],
   "source": []
  },
  {
   "cell_type": "markdown",
   "metadata": {},
   "source": [
    "### 3 The Word Trends"
   ]
  },
  {
   "cell_type": "code",
   "execution_count": 10,
   "metadata": {},
   "outputs": [
    {
     "data": {
      "application/vnd.jupyter.widget-view+json": {
       "model_id": "d7d938168fd34e9190bb9d2a5baaeb60",
       "version_major": 2,
       "version_minor": 0
      },
      "text/plain": [
       "interactive(children=(SelectMultiple(description='Company', options=('Hyatt', 'Marriott'), value=()), Text(val…"
      ]
     },
     "metadata": {},
     "output_type": "display_data"
    }
   ],
   "source": [
    "@interact(Company=widgets.SelectMultiple(options=list(set(df['Company']))),Key_Words=\"Recovery\")\n",
    "def h(Company,Key_Words):\n",
    "    counts= []\n",
    "    chart_df =pd.DataFrame()\n",
    "    for i in range(len(df)) :\n",
    "        TEMP = df[(df['Company'] == df.iloc[i, 2])&(df['Year'] == df.iloc[i, 3])&(df['Quarter'] == df.iloc[i, 4])]\n",
    "        chart_df = chart_df.append(TEMP)\n",
    "        try:\n",
    "            transcript = df[(df['Company'] == df.iloc[i, 2])&(df['Year'] == df.iloc[i, 3])&(df['Quarter'] == df.iloc[i, 4])]['file_contents'].to_list()[0]\n",
    "            word_tokens = word_tokenize(transcript)\n",
    "            wordcounts_lower = Counter(i.lower() for i in word_tokens)\n",
    "            count = Counter(wordcounts_lower)\n",
    "            key_word_count = count[Key_Words.lower()]\n",
    "            counts.append(key_word_count)\n",
    "        except: \n",
    "            None\n",
    "    chart_df['word_counts'] = counts\n",
    "    chart_df_year=chart_df.groupby(by=[\"Company\",\"Year\"]).sum().reset_index()\n",
    "    chart_df_year=chart_df_year[chart_df_year['Company'].isin(Company)]\n",
    "    fig = px.line(chart_df_year, x='Year', y=\"word_counts\", color = \"Company\")\n",
    "\n",
    "    fig.update_layout(\n",
    "        title= \"How many times the word \"+\"'\"+ str(Key_Words)+\"'\"+ \" has been mentioned\",\n",
    "        xaxis_title=\"Year\",\n",
    "        yaxis_title=\"Frequency\",\n",
    "    #         legend_title=\"Top Words\",\n",
    "        font=dict(\n",
    "    #         family=\"Courier New, monospace\",\n",
    "            size=12,\n",
    "            color=\"Black\"\n",
    "        )\n",
    "    )\n",
    "    fig.update_xaxes(tickangle=45, tickfont=dict(family=\"Courier New, monospace\", size=14))\n",
    "\n",
    "    fig.show()"
   ]
  },
  {
   "cell_type": "code",
   "execution_count": null,
   "metadata": {},
   "outputs": [],
   "source": []
  },
  {
   "cell_type": "markdown",
   "metadata": {},
   "source": [
    "### 4 The sentiment"
   ]
  },
  {
   "cell_type": "code",
   "execution_count": 11,
   "metadata": {},
   "outputs": [],
   "source": [
    "word = 'recovery'"
   ]
  },
  {
   "cell_type": "code",
   "execution_count": 12,
   "metadata": {},
   "outputs": [],
   "source": [
    "transcript = df[(df['Year'] == 2020) & (df['Quarter'] == 2)& (df['Company'] == \"Marriott\")]['file_contents'].to_list()[0]\n",
    "word_tokens = word_tokenize(transcript)\n",
    "textListNLTK = Text(word_tokens)"
   ]
  },
  {
   "cell_type": "code",
   "execution_count": 13,
   "metadata": {},
   "outputs": [],
   "source": [
    "sia = SentimentIntensityAnalyzer()"
   ]
  },
  {
   "cell_type": "code",
   "execution_count": 17,
   "metadata": {},
   "outputs": [
    {
     "name": "stdout",
     "output_type": "stream",
     "text": [
      "Sentence: , over 90 percent of which are managed , is leading the recovery and has seen rapid improvements in occupancy and new bookings .\n",
      "Sentiment score: 0.3182\n",
      "------------------------------------\n",
      "Sentence: of pre‐COVID levels . While leisure and drive‐to destinations led the initial recovery , it is encouraging to see business transient as well as\n",
      "Sentiment score: 0.6705\n",
      "------------------------------------\n",
      "Sentence: percentage points of improvement per month . At the current rate of recovery , and assuming no wide resurgence of COVID‐19 , the Greater\n",
      "Sentiment score: 0.5106\n",
      "------------------------------------\n",
      "Sentence: phases of reopening and as certain borders remain closed . But the recovery of travel in Greater China demonstrates the resiliency of demand once\n",
      "Sentiment score: 0.4767\n",
      "------------------------------------\n",
      "Sentence: of our hotels are now open . We are experiencing a steady recovery across all chain scales , although the rate of recovery within\n",
      "Sentiment score: 0.0\n",
      "------------------------------------\n",
      "Sentence: a steady recovery across all chain scales , although the rate of recovery within markets and by hotel type has varied tremendously . In\n",
      "Sentiment score: 0.0\n",
      "------------------------------------\n",
      "Sentence: surprisingly , our extended stay hotels have experienced the fastest pace of recovery . New bookings in North America have been building nicely ,\n",
      "Sentiment score: 0.6249\n",
      "------------------------------------\n",
      "Sentence: is still too much uncertainty around the timing and trajectory of the recovery to give P & L guidance for the rest of this\n",
      "Sentiment score: -0.34\n",
      "------------------------------------\n",
      "Sentence: a solid position to navigate through these challenging times . The global recovery may take longer than any of us would like , but\n",
      "Sentiment score: 0.3291\n",
      "------------------------------------\n",
      "Sentence: take longer than any of us would like , but the strong recovery in Greater China and trends in the rest of the world\n",
      "Sentiment score: 0.8573\n",
      "------------------------------------\n",
      "Sentence: China , one is about the markets generally . Obviously , the recovery is well apace . I think it's easy to be in\n",
      "Sentiment score: 0.6124\n",
      "------------------------------------\n",
      "Sentence: too early to answer questions about exactly what the shape of the recovery looks like in the United States , it's too early to\n",
      "Sentiment score: 0.6486\n",
      "------------------------------------\n",
      "Sentence: is a place we watch . Now the ‐‐ I think as recovery builds , as we collectively get more confidence about COVID‐19 starting\n",
      "Sentiment score: 0.5563\n",
      "------------------------------------\n",
      "Sentence: do around the leisure traveler based on the first few months of recovery here . And somewhat gratifying , we see that leisure travel\n",
      "Sentiment score: 0.4601\n",
      "------------------------------------\n",
      "Sentence: is , leisure may continue to be a pretty significant source of recovery even as we get past Labor Day and into the fall\n",
      "Sentiment score: 0.6124\n",
      "------------------------------------\n",
      "Sentence: think the way of putting this is that so far in the recovery , every segment has gotten better every month , albeit with\n",
      "Sentiment score: 0.4404\n",
      "------------------------------------\n",
      "Sentence: depends whether you're thinking about the virus or you're thinking about lodging recovery , travel recovery . I am no more optimistic about the\n",
      "Sentiment score: 0.101\n",
      "------------------------------------\n",
      "Sentence: thinking about the virus or you're thinking about lodging recovery , travel recovery . I am no more optimistic about the virus than I\n",
      "Sentiment score: 0.101\n",
      "------------------------------------\n",
      "Sentence: before that . I am , however , more optimistic about the recovery of travel and the recovery of our business . And I\n",
      "Sentiment score: 0.3804\n",
      "------------------------------------\n",
      "Sentence: , however , more optimistic about the recovery of travel and the recovery of our business . And I think if you read the\n",
      "Sentiment score: 0.3804\n",
      "------------------------------------\n",
      "Sentence: to continue . But we would expect corporate to be slower in recovery than leisure has been so far and probably slower to recover\n",
      "Sentiment score: 0.0\n",
      "------------------------------------\n",
      "Sentence: I think , generally , you see fairly strong ‐‐ very strong recovery certainly from their lows . Remember , in February , our\n",
      "Sentiment score: 0.8158\n",
      "------------------------------------\n",
      "Sentence: travel . I think you're right to say that some of that recovery is probably Chinese travel that would have gone abroad , maybe\n",
      "Sentiment score: 0.0\n",
      "------------------------------------\n",
      "Sentence: trying to gauge how the U.S. could follow Greater China in a recovery . You kind of highlighted both being more of a domestic\n",
      "Sentiment score: 0.3612\n",
      "------------------------------------\n",
      "Sentence: is two or three months ahead of the U.S. in the COVID‐19 recovery . 20 I think the resilience of the American consumer is\n",
      "Sentiment score: 0.0\n",
      "------------------------------------\n",
      "completed\n"
     ]
    }
   ],
   "source": [
    "scores= []\n",
    "for i in range(0,30):\n",
    "    try:\n",
    "        sentence1 = ' '.join(word for word in textListNLTK.concordance_list(word,width=50)[i][0])\n",
    "        sentence2 = ' '.join(word for word in textListNLTK.concordance_list(word,width=50)[i][2])\n",
    "        sentence = sentence1+\" \"+word+\" \"+sentence2\n",
    "        score =sia.polarity_scores(sentence)['compound']\n",
    "        print(\"Sentence: \"+sentence)\n",
    "        print(\"Sentiment score: \"+str(score))\n",
    "        scores.append(score)\n",
    "        print(\"------------------------------------\")\n",
    "    except:\n",
    "        print(\"completed\")\n",
    "        break"
   ]
  },
  {
   "cell_type": "code",
   "execution_count": 19,
   "metadata": {},
   "outputs": [
    {
     "data": {
      "image/png": "[encoded data removed]",
      "text/plain": [
       "<Figure size 800x560 with 1 Axes>"
      ]
     },
     "metadata": {},
     "output_type": "display_data"
    }
   ],
   "source": [
    "import seaborn as sns\n",
    "sns.set_style(\"darkgrid\")\n",
    "kwargs = dict(hist_kws={'alpha':0.7}, kde_kws={'linewidth':4})\n",
    "plt.figure(figsize=(10,7), dpi= 80)\n",
    "sns.distplot(scores, label=\"Compact\",bins=8, **kwargs,axlabel='Sentiment Score - Recovery');"
   ]
  },
  {
   "cell_type": "code",
   "execution_count": null,
   "metadata": {},
   "outputs": [],
   "source": []
  },
  {
   "cell_type": "code",
   "execution_count": null,
   "metadata": {},
   "outputs": [],
   "source": []
  }
 ],
 "metadata": {
  "kernelspec": {
   "display_name": "Python 3",
   "language": "python",
   "name": "python3"
  },
  "language_info": {
   "codemirror_mode": {
    "name": "ipython",
    "version": 3
   },
   "file_extension": ".py",
   "mimetype": "text/x-python",
   "name": "python",
   "nbconvert_exporter": "python",
   "pygments_lexer": "ipython3",
   "version": "3.7.6"
  }
 },
 "nbformat": 4,
 "nbformat_minor": 5
}
